{
 "cells": [
  {
   "cell_type": "markdown",
   "metadata": {},
   "source": [
    "### OUTLIERS DETECTION: detecting unsually high or low data points  in a variable using Tukey methods(Tukey boxplot) "
   ]
  },
  {
   "cell_type": "code",
   "execution_count": 1,
   "metadata": {
    "collapsed": true
   },
   "outputs": [],
   "source": [
    "# Data points identified using the Tukey method should be treated as potential outliers to be investigated further"
   ]
  },
  {
   "cell_type": "code",
   "execution_count": 25,
   "metadata": {
    "collapsed": true
   },
   "outputs": [],
   "source": [
    "import numpy as np\n",
    "import pandas as pd\n",
    "\n",
    "import matplotlib.pyplot as plt\n",
    "from pylab import rcParams"
   ]
  },
  {
   "cell_type": "code",
   "execution_count": 52,
   "metadata": {
    "collapsed": true
   },
   "outputs": [],
   "source": [
    "%matplotlib inline\n",
    "rcParams['figure.figsize']= 12,10"
   ]
  },
  {
   "cell_type": "code",
   "execution_count": 53,
   "metadata": {
    "collapsed": false
   },
   "outputs": [
    {
     "name": "stderr",
     "output_type": "stream",
     "text": [
      "Skipping line 4910: expected 18 fields, saw 19\n",
      "\n"
     ]
    },
    {
     "data": {
      "text/html": [
       "<div>\n",
       "<table border=\"1\" class=\"dataframe\">\n",
       "  <thead>\n",
       "    <tr style=\"text-align: right;\">\n",
       "      <th></th>\n",
       "      <th>site</th>\n",
       "      <th>car_id</th>\n",
       "      <th>car_descrip</th>\n",
       "      <th>car_make</th>\n",
       "      <th>car_model</th>\n",
       "      <th>car_trim</th>\n",
       "      <th>car_year</th>\n",
       "      <th>car_category</th>\n",
       "      <th>car_mileage</th>\n",
       "      <th>car_price</th>\n",
       "      <th>car_extColor</th>\n",
       "      <th>car_transmission</th>\n",
       "      <th>car_driveTrain</th>\n",
       "      <th>car_vendor</th>\n",
       "      <th>car_location</th>\n",
       "      <th>car_detail_link</th>\n",
       "      <th>car_img_link</th>\n",
       "    </tr>\n",
       "  </thead>\n",
       "  <tbody>\n",
       "    <tr>\n",
       "      <th>0</th>\n",
       "      <td>carsDotCom</td>\n",
       "      <td>699097326</td>\n",
       "      <td>Used 2014 BMW M5 Base</td>\n",
       "      <td>BMW</td>\n",
       "      <td>M5</td>\n",
       "      <td>Base</td>\n",
       "      <td>2014</td>\n",
       "      <td>Used</td>\n",
       "      <td>30000</td>\n",
       "      <td>56500</td>\n",
       "      <td>NaN</td>\n",
       "      <td>NaN</td>\n",
       "      <td>NaN</td>\n",
       "      <td>Omar (Private Seller)</td>\n",
       "      <td>Washington</td>\n",
       "      <td>DC</td>\n",
       "      <td>https://www.cars.com/vehicledetail/detail/6990...</td>\n",
       "    </tr>\n",
       "    <tr>\n",
       "      <th>1</th>\n",
       "      <td>carsDotCom</td>\n",
       "      <td>703358833</td>\n",
       "      <td>Used 2010 BMW X5 xDrive35d</td>\n",
       "      <td>BMW</td>\n",
       "      <td>X5</td>\n",
       "      <td>xDrive35d</td>\n",
       "      <td>2010</td>\n",
       "      <td>Used</td>\n",
       "      <td>58768</td>\n",
       "      <td>19999</td>\n",
       "      <td>NaN</td>\n",
       "      <td>NaN</td>\n",
       "      <td>NaN</td>\n",
       "      <td>David (Private Seller)</td>\n",
       "      <td>Washington</td>\n",
       "      <td>DC</td>\n",
       "      <td>https://www.cars.com/vehicledetail/detail/7033...</td>\n",
       "    </tr>\n",
       "    <tr>\n",
       "      <th>2</th>\n",
       "      <td>carsDotCom</td>\n",
       "      <td>704738631</td>\n",
       "      <td>Used 2008 Chrysler Sebring</td>\n",
       "      <td>Chrysler</td>\n",
       "      <td>Sebring</td>\n",
       "      <td>null</td>\n",
       "      <td>2008</td>\n",
       "      <td>Used</td>\n",
       "      <td>88000</td>\n",
       "      <td>5000</td>\n",
       "      <td>NaN</td>\n",
       "      <td>NaN</td>\n",
       "      <td>NaN</td>\n",
       "      <td>joseph (Private Seller)</td>\n",
       "      <td>Washington</td>\n",
       "      <td>DC</td>\n",
       "      <td>https://www.cars.com/vehicledetail/detail/7047...</td>\n",
       "    </tr>\n",
       "    <tr>\n",
       "      <th>3</th>\n",
       "      <td>carsDotCom</td>\n",
       "      <td>705384215</td>\n",
       "      <td>Used 2009 Subaru Impreza 2.5 i</td>\n",
       "      <td>Subaru</td>\n",
       "      <td>Impreza</td>\n",
       "      <td>2.5 i</td>\n",
       "      <td>2009</td>\n",
       "      <td>Used</td>\n",
       "      <td>93651</td>\n",
       "      <td>6300</td>\n",
       "      <td>NaN</td>\n",
       "      <td>NaN</td>\n",
       "      <td>NaN</td>\n",
       "      <td>Karen (Private Seller)</td>\n",
       "      <td>Washington</td>\n",
       "      <td>DC</td>\n",
       "      <td>https://www.cars.com/vehicledetail/detail/7053...</td>\n",
       "    </tr>\n",
       "    <tr>\n",
       "      <th>4</th>\n",
       "      <td>carsDotCom</td>\n",
       "      <td>703829198</td>\n",
       "      <td>Used 2006 Toyota Land Cruiser</td>\n",
       "      <td>Toyota</td>\n",
       "      <td>Land Cruiser</td>\n",
       "      <td>null</td>\n",
       "      <td>2006</td>\n",
       "      <td>Used</td>\n",
       "      <td>178000</td>\n",
       "      <td>15000</td>\n",
       "      <td>NaN</td>\n",
       "      <td>NaN</td>\n",
       "      <td>NaN</td>\n",
       "      <td>Erin (Private Seller)</td>\n",
       "      <td>Washington</td>\n",
       "      <td>DC</td>\n",
       "      <td>https://www.cars.com/vehicledetail/detail/7038...</td>\n",
       "    </tr>\n",
       "  </tbody>\n",
       "</table>\n",
       "</div>"
      ],
      "text/plain": [
       "         site     car_id                     car_descrip  car_make  \\\n",
       "0  carsDotCom  699097326           Used 2014 BMW M5 Base       BMW   \n",
       "1  carsDotCom  703358833      Used 2010 BMW X5 xDrive35d       BMW   \n",
       "2  carsDotCom  704738631      Used 2008 Chrysler Sebring  Chrysler   \n",
       "3  carsDotCom  705384215  Used 2009 Subaru Impreza 2.5 i    Subaru   \n",
       "4  carsDotCom  703829198   Used 2006 Toyota Land Cruiser    Toyota   \n",
       "\n",
       "      car_model   car_trim  car_year car_category  car_mileage  car_price  \\\n",
       "0            M5       Base      2014         Used        30000      56500   \n",
       "1            X5  xDrive35d      2010         Used        58768      19999   \n",
       "2       Sebring       null      2008         Used        88000       5000   \n",
       "3       Impreza      2.5 i      2009         Used        93651       6300   \n",
       "4  Land Cruiser       null      2006         Used       178000      15000   \n",
       "\n",
       "  car_extColor car_transmission car_driveTrain               car_vendor  \\\n",
       "0          NaN              NaN            NaN    Omar (Private Seller)   \n",
       "1          NaN              NaN            NaN   David (Private Seller)   \n",
       "2          NaN              NaN            NaN  joseph (Private Seller)   \n",
       "3          NaN              NaN            NaN   Karen (Private Seller)   \n",
       "4          NaN              NaN            NaN    Erin (Private Seller)   \n",
       "\n",
       "  car_location car_detail_link  \\\n",
       "0   Washington              DC   \n",
       "1   Washington              DC   \n",
       "2   Washington              DC   \n",
       "3   Washington              DC   \n",
       "4   Washington              DC   \n",
       "\n",
       "                                        car_img_link  \n",
       "0  https://www.cars.com/vehicledetail/detail/6990...  \n",
       "1  https://www.cars.com/vehicledetail/detail/7033...  \n",
       "2  https://www.cars.com/vehicledetail/detail/7047...  \n",
       "3  https://www.cars.com/vehicledetail/detail/7053...  \n",
       "4  https://www.cars.com/vehicledetail/detail/7038...  "
      ]
     },
     "execution_count": 53,
     "metadata": {},
     "output_type": "execute_result"
    }
   ],
   "source": [
    "df = pd.read_csv(filepath_or_buffer='C:/Users/darog/Desktop/carsdotcom.csv',error_bad_lines=False, index_col=False)\n",
    "df.head()"
   ]
  },
  {
   "cell_type": "code",
   "execution_count": 54,
   "metadata": {
    "collapsed": false
   },
   "outputs": [
    {
     "data": {
      "text/plain": [
       "<matplotlib.axes._subplots.AxesSubplot at 0xb5b5240>"
      ]
     },
     "execution_count": 54,
     "metadata": {},
     "output_type": "execute_result"
    },
    {
     "data": {
      "image/png": "[encoded data removed]",
      "text/plain": [
       "<matplotlib.figure.Figure at 0xa0e6a90>"
      ]
     },
     "metadata": {},
     "output_type": "display_data"
    }
   ],
   "source": [
    "df.boxplot('car_price')\n"
   ]
  },
  {
   "cell_type": "code",
   "execution_count": 55,
   "metadata": {
    "collapsed": false
   },
   "outputs": [
    {
     "data": {
      "text/html": [
       "<div>\n",
       "<table border=\"1\" class=\"dataframe\">\n",
       "  <thead>\n",
       "    <tr style=\"text-align: right;\">\n",
       "      <th></th>\n",
       "      <th>car_id</th>\n",
       "      <th>car_year</th>\n",
       "      <th>car_mileage</th>\n",
       "      <th>car_price</th>\n",
       "    </tr>\n",
       "  </thead>\n",
       "  <tbody>\n",
       "    <tr>\n",
       "      <th>count</th>\n",
       "      <td>5.010000e+03</td>\n",
       "      <td>5010.000000</td>\n",
       "      <td>5010.000000</td>\n",
       "      <td>5010.000000</td>\n",
       "    </tr>\n",
       "    <tr>\n",
       "      <th>mean</th>\n",
       "      <td>7.022424e+08</td>\n",
       "      <td>2013.389621</td>\n",
       "      <td>40932.574052</td>\n",
       "      <td>22705.281038</td>\n",
       "    </tr>\n",
       "    <tr>\n",
       "      <th>std</th>\n",
       "      <td>9.425239e+06</td>\n",
       "      <td>4.117011</td>\n",
       "      <td>35143.429382</td>\n",
       "      <td>13938.202190</td>\n",
       "    </tr>\n",
       "    <tr>\n",
       "      <th>min</th>\n",
       "      <td>1.370096e+08</td>\n",
       "      <td>1928.000000</td>\n",
       "      <td>-1.000000</td>\n",
       "      <td>-1.000000</td>\n",
       "    </tr>\n",
       "    <tr>\n",
       "      <th>25%</th>\n",
       "      <td>7.015626e+08</td>\n",
       "      <td>2013.000000</td>\n",
       "      <td>19202.250000</td>\n",
       "      <td>14897.000000</td>\n",
       "    </tr>\n",
       "    <tr>\n",
       "      <th>50%</th>\n",
       "      <td>7.035928e+08</td>\n",
       "      <td>2014.000000</td>\n",
       "      <td>31757.000000</td>\n",
       "      <td>20225.000000</td>\n",
       "    </tr>\n",
       "    <tr>\n",
       "      <th>75%</th>\n",
       "      <td>7.049658e+08</td>\n",
       "      <td>2015.000000</td>\n",
       "      <td>48366.000000</td>\n",
       "      <td>27997.000000</td>\n",
       "    </tr>\n",
       "    <tr>\n",
       "      <th>max</th>\n",
       "      <td>7.058928e+08</td>\n",
       "      <td>2017.000000</td>\n",
       "      <td>352000.000000</td>\n",
       "      <td>249000.000000</td>\n",
       "    </tr>\n",
       "  </tbody>\n",
       "</table>\n",
       "</div>"
      ],
      "text/plain": [
       "             car_id     car_year    car_mileage      car_price\n",
       "count  5.010000e+03  5010.000000    5010.000000    5010.000000\n",
       "mean   7.022424e+08  2013.389621   40932.574052   22705.281038\n",
       "std    9.425239e+06     4.117011   35143.429382   13938.202190\n",
       "min    1.370096e+08  1928.000000      -1.000000      -1.000000\n",
       "25%    7.015626e+08  2013.000000   19202.250000   14897.000000\n",
       "50%    7.035928e+08  2014.000000   31757.000000   20225.000000\n",
       "75%    7.049658e+08  2015.000000   48366.000000   27997.000000\n",
       "max    7.058928e+08  2017.000000  352000.000000  249000.000000"
      ]
     },
     "execution_count": 55,
     "metadata": {},
     "output_type": "execute_result"
    }
   ],
   "source": [
    "df.describe()"
   ]
  },
  {
   "cell_type": "code",
   "execution_count": null,
   "metadata": {
    "collapsed": true
   },
   "outputs": [],
   "source": []
  }
 ],
 "metadata": {
  "kernelspec": {
   "display_name": "Python 2",
   "language": "python",
   "name": "python2"
  },
  "language_info": {
   "codemirror_mode": {
    "name": "ipython",
    "version": 2
   },
   "file_extension": ".py",
   "mimetype": "text/x-python",
   "name": "python",
   "nbconvert_exporter": "python",
   "pygments_lexer": "ipython2",
   "version": "2.7.13"
  }
 },
 "nbformat": 4,
 "nbformat_minor": 2
}
